{
 "cells": [
  {
   "cell_type": "code",
   "execution_count": 1,
   "id": "33a9cca2-d9a0-46db-b134-f8d394f829de",
   "metadata": {},
   "outputs": [],
   "source": [
    "import pandas as pd"
   ]
  },
  {
   "cell_type": "markdown",
   "id": "f6e56b79-25f2-4320-b51f-a977a233ad1e",
   "metadata": {},
   "source": [
    "Se importa el CSV con encoding = latin1 para que sea legible."
   ]
  },
  {
   "cell_type": "code",
   "execution_count": 2,
   "id": "0b398ced-67eb-4630-bd72-b3335516c97b",
   "metadata": {},
   "outputs": [],
   "source": [
    "df_original = pd.read_csv(\"sales_data.csv\", encoding='latin1')"
   ]
  },
  {
   "cell_type": "markdown",
   "id": "7b609bc2-91ba-4060-8681-8a6ce83cec58",
   "metadata": {},
   "source": [
    "Se muestran las dimensiones en el CSV o Dataset."
   ]
  },
  {
   "cell_type": "code",
   "execution_count": 3,
   "id": "664195f3-0ef7-48a2-adc3-6e6841958dad",
   "metadata": {},
   "outputs": [
    {
     "name": "stdout",
     "output_type": "stream",
     "text": [
      "Nombres de las columnas: ['ORDERNUMBER', 'QUANTITYORDERED', 'PRICEEACH', 'ORDERLINENUMBER', 'SALES', 'ORDERDATE', 'STATUS', 'QTR_ID', 'MONTH_ID', 'YEAR_ID', 'PRODUCTLINE', 'MSRP', 'PRODUCTCODE', 'CUSTOMERNAME', 'PHONE', 'ADDRESSLINE1', 'ADDRESSLINE2', 'CITY', 'STATE', 'POSTALCODE', 'COUNTRY', 'TERRITORY', 'CONTACTLASTNAME', 'CONTACTFIRSTNAME']\n"
     ]
    }
   ],
   "source": [
    "print(\"Nombres de las columnas:\", df_original.columns.tolist())"
   ]
  },
  {
   "cell_type": "markdown",
   "id": "5c3947e7-37de-412e-a623-b6de65601358",
   "metadata": {},
   "source": [
    "Se muestran los el número de registros, incluyendo 10 estos antes de la limpieza."
   ]
  },
  {
   "cell_type": "code",
   "execution_count": 4,
   "id": "8b80a96a-f124-4f36-8b0d-6d398fef023c",
   "metadata": {},
   "outputs": [
    {
     "name": "stdout",
     "output_type": "stream",
     "text": [
      "Número de registros antes de la limpieza: 2823\n",
      "\n",
      "Primeros registros antes de la limpieza:\n",
      "   ORDERNUMBER  QUANTITYORDERED  PRICEEACH  ORDERLINENUMBER    SALES  \\\n",
      "0        10107               30      95.70                2  2871.00   \n",
      "1        10121               34      81.35                5  2765.90   \n",
      "2        10134               41      94.74                2  3884.34   \n",
      "3        10145               45      83.26                6  3746.70   \n",
      "4        10159               49     100.00               14  5205.27   \n",
      "\n",
      "         ORDERDATE   STATUS  QTR_ID  MONTH_ID  YEAR_ID  ...             PHONE  \\\n",
      "0   2/24/2003 0:00  Shipped       1         2     2003  ...        2125557818   \n",
      "1    5/7/2003 0:00  Shipped       2         5     2003  ...        26.47.1555   \n",
      "2    7/1/2003 0:00  Shipped       3         7     2003  ...  +33 1 46 62 7555   \n",
      "3   8/25/2003 0:00  Shipped       3         8     2003  ...        6265557265   \n",
      "4  10/10/2003 0:00  Shipped       4        10     2003  ...        6505551386   \n",
      "\n",
      "                    ADDRESSLINE1 ADDRESSLINE2           CITY STATE POSTALCODE  \\\n",
      "0        897 Long Airport Avenue          NaN            NYC    NY      10022   \n",
      "1             59 rue de l'Abbaye          NaN          Reims   NaN      51100   \n",
      "2  27 rue du Colonel Pierre Avia          NaN          Paris   NaN      75508   \n",
      "3             78934 Hillside Dr.          NaN       Pasadena    CA      90003   \n",
      "4                7734 Strong St.          NaN  San Francisco    CA        NaN   \n",
      "\n",
      "         COUNTRY TERRITORY CONTACTLASTNAME CONTACTFIRSTNAME  \n",
      "0  United States       NaN              Yu             Kwai  \n",
      "1         France      EMEA         Henriot             Paul  \n",
      "2         France      EMEA        Da Cunha           Daniel  \n",
      "3            USA       NaN           Young            Julie  \n",
      "4  United States       NaN           Brown            Julie  \n",
      "\n",
      "[5 rows x 24 columns]\n",
      "\n",
      "Últimos registros antes de la limpieza:\n",
      "      ORDERNUMBER  QUANTITYORDERED  PRICEEACH  ORDERLINENUMBER    SALES  \\\n",
      "2818        10350               20     100.00               15  2244.40   \n",
      "2819        10373               29     100.00                1  3978.51   \n",
      "2820        10386               43     100.00                4  5417.57   \n",
      "2821        10397               34      62.24                1  2116.16   \n",
      "2822        10414               47      65.52                9  3079.44   \n",
      "\n",
      "           ORDERDATE    STATUS  QTR_ID  MONTH_ID  YEAR_ID  ...  \\\n",
      "2818  12/2/2004 0:00   Shipped       4        12     2004  ...   \n",
      "2819  1/31/2005 0:00   Shipped       1         1     2005  ...   \n",
      "2820   3/1/2005 0:00  Resolved       1         3     2005  ...   \n",
      "2821  3/28/2005 0:00   Shipped       1         3     2005  ...   \n",
      "2822   5/6/2005 0:00   On Hold       2         5     2005  ...   \n",
      "\n",
      "               PHONE           ADDRESSLINE1 ADDRESSLINE2      CITY STATE  \\\n",
      "2818  (91) 555 94 44     C/ Moralzarzal, 86          NaN    Madrid   NaN   \n",
      "2819      981-443655            Torikatu 38          NaN      Oulu   NaN   \n",
      "2820  (91) 555 94 44     C/ Moralzarzal, 86          NaN    Madrid   NaN   \n",
      "2821      61.77.6555  1 rue Alsace-Lorraine          NaN  Toulouse   NaN   \n",
      "2822      6175559555     8616 Spinnaker Dr.          NaN    Boston    MA   \n",
      "\n",
      "     POSTALCODE  COUNTRY TERRITORY CONTACTLASTNAME CONTACTFIRSTNAME  \n",
      "2818      28034    Spain      EMEA          Freyre            Diego  \n",
      "2819      90110  Finland      EMEA       Koskitalo           Pirkko  \n",
      "2820      28034    Spain      EMEA          Freyre            Diego  \n",
      "2821      31000   France      EMEA          Roulet          Annette  \n",
      "2822      51003      USA       NaN         Yoshido             Juri  \n",
      "\n",
      "[5 rows x 24 columns]\n"
     ]
    }
   ],
   "source": [
    "print(\"Número de registros antes de la limpieza:\", df_original.shape[0])\n",
    "\n",
    "print(\"\\nPrimeros registros antes de la limpieza:\")\n",
    "print(df_original.head())\n",
    "print(\"\\nÚltimos registros antes de la limpieza:\")\n",
    "print(df_original.tail())"
   ]
  },
  {
   "cell_type": "markdown",
   "id": "bc119ada-09e4-4ecd-b40f-75a87290d4ab",
   "metadata": {},
   "source": [
    "Se hace la limpieza eliminando los datos nulos en la dimensión \"STATE\""
   ]
  },
  {
   "cell_type": "code",
   "execution_count": 5,
   "id": "1b0b7e04-4b78-4609-9a57-9bf90f2f3538",
   "metadata": {},
   "outputs": [],
   "source": [
    "df_limpio = df_original.dropna(subset=['STATE'])"
   ]
  },
  {
   "cell_type": "markdown",
   "id": "5dab07a5-9095-4d37-a73a-7ccc55f7793a",
   "metadata": {},
   "source": [
    "Se muestran el número de registros, incluyendo 10 ejemplos de estos posterior a la limpieza."
   ]
  },
  {
   "cell_type": "code",
   "execution_count": 6,
   "id": "87802d69-f0da-41d7-939c-65e7190ba54f",
   "metadata": {},
   "outputs": [
    {
     "name": "stdout",
     "output_type": "stream",
     "text": [
      "Número de registros después de la limpieza: 1337\n",
      "\n",
      "Primeros registros después de la limpieza:\n",
      "   ORDERNUMBER  QUANTITYORDERED  PRICEEACH  ORDERLINENUMBER    SALES  \\\n",
      "0        10107               30      95.70                2  2871.00   \n",
      "3        10145               45      83.26                6  3746.70   \n",
      "4        10159               49     100.00               14  5205.27   \n",
      "5        10168               36      96.66                1  3479.76   \n",
      "8        10201               22      98.57                2  2168.54   \n",
      "\n",
      "         ORDERDATE   STATUS  QTR_ID  MONTH_ID  YEAR_ID  ...       PHONE  \\\n",
      "0   2/24/2003 0:00  Shipped       1         2     2003  ...  2125557818   \n",
      "3   8/25/2003 0:00  Shipped       3         8     2003  ...  6265557265   \n",
      "4  10/10/2003 0:00  Shipped       4        10     2003  ...  6505551386   \n",
      "5  10/28/2003 0:00  Shipped       4        10     2003  ...  6505556809   \n",
      "8   12/1/2003 0:00  Shipped       4        12     2003  ...  6505555787   \n",
      "\n",
      "                ADDRESSLINE1 ADDRESSLINE2           CITY STATE POSTALCODE  \\\n",
      "0    897 Long Airport Avenue          NaN            NYC    NY      10022   \n",
      "3         78934 Hillside Dr.          NaN       Pasadena    CA      90003   \n",
      "4            7734 Strong St.          NaN  San Francisco    CA        NaN   \n",
      "5          9408 Furth Circle          NaN     Burlingame    CA      94217   \n",
      "8  5557 North Pendale Street          NaN  San Francisco    CA        NaN   \n",
      "\n",
      "         COUNTRY TERRITORY CONTACTLASTNAME CONTACTFIRSTNAME  \n",
      "0  United States       NaN              Yu             Kwai  \n",
      "3            USA       NaN           Young            Julie  \n",
      "4  United States       NaN           Brown            Julie  \n",
      "5            USA       NaN          Hirano             Juri  \n",
      "8  United States       NaN          Murphy            Julie  \n",
      "\n",
      "[5 rows x 24 columns]\n",
      "\n",
      "Últimos registros después de la limpieza:\n",
      "      ORDERNUMBER  QUANTITYORDERED  PRICEEACH  ORDERLINENUMBER    SALES  \\\n",
      "2809        10248               23      65.52                9  1506.96   \n",
      "2810        10261               29      50.78                7  1472.62   \n",
      "2812        10283               33      51.32               12  1693.56   \n",
      "2817        10337               42      97.16                5  4080.72   \n",
      "2822        10414               47      65.52                9  3079.44   \n",
      "\n",
      "            ORDERDATE     STATUS  QTR_ID  MONTH_ID  YEAR_ID  ...  \\\n",
      "2809    5/7/2004 0:00  Cancelled       2         5     2004  ...   \n",
      "2810   6/17/2004 0:00    Shipped       2         6     2004  ...   \n",
      "2812   8/20/2004 0:00    Shipped       3         8     2004  ...   \n",
      "2817  11/21/2004 0:00    Shipped       4        11     2004  ...   \n",
      "2822    5/6/2005 0:00    On Hold       2         5     2005  ...   \n",
      "\n",
      "               PHONE             ADDRESSLINE1 ADDRESSLINE2       CITY   STATE  \\\n",
      "2809      2125557818  897 Long Airport Avenue          NaN        NYC      NY   \n",
      "2810  (514) 555-8054       43 rue St. Laurent          NaN   Montral  Qubec   \n",
      "2812  (604) 555-4555       23 Tsawassen Blvd.          NaN  Tsawassen      BC   \n",
      "2817      2125558493         5905 Pompton St.    Suite 750        NYC      NY   \n",
      "2822      6175559555       8616 Spinnaker Dr.          NaN     Boston      MA   \n",
      "\n",
      "     POSTALCODE COUNTRY TERRITORY CONTACTLASTNAME CONTACTFIRSTNAME  \n",
      "2809      10022     USA       NaN              Yu             Kwai  \n",
      "2810    H1J 1C3  Canada       NaN       Fresnire             Jean  \n",
      "2812    T2F 8M4  Canada       NaN         Lincoln        Elizabeth  \n",
      "2817      10022     USA       NaN       Hernandez            Maria  \n",
      "2822      51003     USA       NaN         Yoshido             Juri  \n",
      "\n",
      "[5 rows x 24 columns]\n"
     ]
    }
   ],
   "source": [
    "print(\"Número de registros después de la limpieza:\", df_limpio.shape[0])\n",
    "\n",
    "print(\"\\nPrimeros registros después de la limpieza:\")\n",
    "print(df_limpio.head())\n",
    "print(\"\\nÚltimos registros después de la limpieza:\")\n",
    "print(df_limpio.tail())"
   ]
  },
  {
   "cell_type": "markdown",
   "id": "3224824d-0d3e-446c-82c5-274c6d3d2579",
   "metadata": {},
   "source": [
    "Se guarda el Dataset limpio en un archivo XML."
   ]
  },
  {
   "cell_type": "code",
   "execution_count": 7,
   "id": "fc5f1d50-0c9d-4890-88d4-47b06808c339",
   "metadata": {},
   "outputs": [
    {
     "name": "stdout",
     "output_type": "stream",
     "text": [
      "Proceso completado. El archivo XML ha sido guardado.\n"
     ]
    }
   ],
   "source": [
    "df_limpio.to_xml(r'C:\\Users\\brmh0\\OneDrive\\Escritorio\\Bases de datos avanzadas\\Práctica 6\\Resultados\\Dataset_Limpio.xml', index=False)\n",
    "\n",
    "print(\"Proceso completado. El archivo XML ha sido guardado.\")"
   ]
  }
 ],
 "metadata": {
  "kernelspec": {
   "display_name": "Python 3 (ipykernel)",
   "language": "python",
   "name": "python3"
  },
  "language_info": {
   "codemirror_mode": {
    "name": "ipython",
    "version": 3
   },
   "file_extension": ".py",
   "mimetype": "text/x-python",
   "name": "python",
   "nbconvert_exporter": "python",
   "pygments_lexer": "ipython3",
   "version": "3.12.0"
  }
 },
 "nbformat": 4,
 "nbformat_minor": 5
}
